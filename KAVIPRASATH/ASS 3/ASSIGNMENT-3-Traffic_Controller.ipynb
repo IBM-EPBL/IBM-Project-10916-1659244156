{
  "nbformat": 4,
  "nbformat_minor": 0,
  "metadata": {
    "colab": {
      "provenance": [],
      "authorship_tag": "ABX9TyNbXuOuh3PJoV7SqOrPyNsv",
      "include_colab_link": true
    },
    "kernelspec": {
      "name": "python3",
      "display_name": "Python 3"
    },
    "language_info": {
      "name": "python"
    }
  },
  "cells": [
    {
      "cell_type": "markdown",
      "metadata": {
        "id": "view-in-github",
        "colab_type": "text"
      },
      "source": [
        "<a href=\"https://colab.research.google.com/github/IBM-EPBL/IBM-Project-10916-1659244156/blob/main/ASSIGNENT-3-Traffic_Controller.ipynb\" target=\"_parent\"><img src=\"https://colab.research.google.com/assets/colab-badge.svg\" alt=\"Open In Colab\"/></a>"
      ]
    },
    {
      "cell_type": "code",
      "execution_count": 7,
      "metadata": {
        "colab": {
          "base_uri": "https://localhost:8080/"
        },
        "id": "5QSYsFgrH1H-",
        "outputId": "858c5132-ff63-45fd-c686-3153b0774b1b"
      },
      "outputs": [
        {
          "output_type": "stream",
          "name": "stdout",
          "text": [
            "Enter value: 10\n",
            "Green light\n"
          ]
        }
      ],
      "source": [
        "x=input(\"Enter value: \")\n",
        "stop_light=int(x)\n",
        "while True:\n",
        "    if stop_light>=1 and stop_light<=10:\n",
        "        print('Green light')\n",
        "        stop_light+=1\n",
        "    elif stop_light<=20:\n",
        "        print('Yellow light')\n",
        "        stop_light+=1\n",
        "    elif stop_light<=30:\n",
        "        print('Red light')\n",
        "        stop_light+=1\n",
        "    else:\n",
        "        stop_light=0\n",
        "    break\n",
        "        \n",
        "        "
      ]
    }
  ]
}
